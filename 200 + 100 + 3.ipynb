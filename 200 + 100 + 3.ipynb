{
 "cells": [
  {
   "cell_type": "code",
   "execution_count": 2,
   "id": "9efdfa91",
   "metadata": {},
   "outputs": [
    {
     "name": "stdout",
     "output_type": "stream",
     "text": [
      "245003\n",
      "temp1:  [100000, 10000, 1000, 100, 10, 1]\n",
      "temp2:  [2, 4, 5, 0, 0, 3]\n",
      "temp1a adjusted:  [100000, 10000, 1000, 1]\n",
      "temp2a adjusted:  [2, 4, 5, 3]\n",
      "['200000', '40000', '5000', '3']\n",
      "200000 + 40000 + 5000 + 3\n"
     ]
    }
   ],
   "source": [
    "liczba=245003\n",
    "liczbastr=range(len(str(liczba)))\n",
    "\n",
    "temp1=[]\n",
    "\n",
    "print(liczba)\n",
    "\n",
    "\n",
    "for i in liczbastr:\n",
    "    temp1.append((pow(10,len(str(liczba))-i-1))*1)\n",
    "\n",
    "print('temp1: ', temp1)    \n",
    "\n",
    "liczbas=str(liczba)\n",
    "\n",
    "temp2=[]\n",
    "for i in liczbas:\n",
    "    temp2.append(int(i))\n",
    "\n",
    "print('temp2: ', temp2)\n",
    "\n",
    "temp1a=[]\n",
    "temp2a=[]\n",
    "\n",
    "Result = []\n",
    "for i1, i2 in zip(temp1, temp2):\n",
    "    if i2!=0:\n",
    "        temp1a.append(i1)\n",
    "        temp2a.append(i2)\n",
    "        \n",
    "\n",
    "for i1, i2 in zip(temp1a, temp2a):\n",
    "        Result.append(str(i1*i2))\n",
    "\n",
    "print('temp1a adjusted: ', temp1a)         \n",
    "print('temp2a adjusted: ', temp2a)\n",
    "\n",
    "result2=\"\"\n",
    "\n",
    "print(Result)\n",
    "\n",
    "\n",
    "\n",
    "s = ' + '.join([str(n) for n in Result])\n",
    "print(s)\n",
    "# 0-1-2\n",
    "\n",
    "\n",
    "#Joined=''.join(str(Result))\n",
    "#print(Joined)\n"
   ]
  },
  {
   "cell_type": "code",
   "execution_count": null,
   "id": "c9f6f1f4",
   "metadata": {},
   "outputs": [],
   "source": []
  },
  {
   "cell_type": "code",
   "execution_count": null,
   "id": "69876884",
   "metadata": {},
   "outputs": [],
   "source": []
  },
  {
   "cell_type": "code",
   "execution_count": null,
   "id": "732983e9",
   "metadata": {},
   "outputs": [],
   "source": []
  }
 ],
 "metadata": {
  "kernelspec": {
   "display_name": "Python 3 (ipykernel)",
   "language": "python",
   "name": "python3"
  },
  "language_info": {
   "codemirror_mode": {
    "name": "ipython",
    "version": 3
   },
   "file_extension": ".py",
   "mimetype": "text/x-python",
   "name": "python",
   "nbconvert_exporter": "python",
   "pygments_lexer": "ipython3",
   "version": "3.9.12"
  }
 },
 "nbformat": 4,
 "nbformat_minor": 5
}
